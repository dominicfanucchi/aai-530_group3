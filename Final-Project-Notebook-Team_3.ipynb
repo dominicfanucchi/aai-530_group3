{
 "cells": [
  {
   "cell_type": "markdown",
   "metadata": {},
   "source": [
    "# Group 3 Final Project Technical Notebook\n",
    "\n",
    "Name(s): Dominic Fanucchi, Daniel Grant, Isaack Karanja   \n",
    "Date:    February 26, 2024"
   ]
  },
  {
   "cell_type": "code",
   "execution_count": null,
   "metadata": {},
   "outputs": [],
   "source": [
    "import numpy as np\n",
    "import pandas as pd\n",
    "import matplotlib.pyplot as plt"
   ]
  }
 ],
 "metadata": {
  "language_info": {
   "name": "python"
  }
 },
 "nbformat": 4,
 "nbformat_minor": 2
}
